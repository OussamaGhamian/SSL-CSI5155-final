{
 "cells": [
  {
   "cell_type": "markdown",
   "metadata": {},
   "source": [
    "# Load Data"
   ]
  },
  {
   "cell_type": "code",
   "execution_count": 216,
   "metadata": {},
   "outputs": [],
   "source": [
    "# Author: Osama Alghmyan 300218382\n",
    "\n",
    "import pandas as pd\n",
    "RS = 42\n",
    "data = pd.read_csv('./bankDataset/bank-full.csv', sep=';')"
   ]
  },
  {
   "cell_type": "markdown",
   "metadata": {},
   "source": [
    "# Explore Data"
   ]
  },
  {
   "cell_type": "code",
   "execution_count": 208,
   "metadata": {},
   "outputs": [
    {
     "name": "stdout",
     "output_type": "stream",
     "text": [
      "   age           job  marital  education default  balance housing loan  \\\n",
      "0   58    management  married   tertiary      no     2143     yes   no   \n",
      "1   44    technician   single  secondary      no       29     yes   no   \n",
      "2   33  entrepreneur  married  secondary      no        2     yes  yes   \n",
      "3   47   blue-collar  married    unknown      no     1506     yes   no   \n",
      "4   33       unknown   single    unknown      no        1      no   no   \n",
      "\n",
      "   contact  day month  duration  campaign  pdays  previous poutcome   y  \n",
      "0  unknown    5   may       261         1     -1         0  unknown  no  \n",
      "1  unknown    5   may       151         1     -1         0  unknown  no  \n",
      "2  unknown    5   may        76         1     -1         0  unknown  no  \n",
      "3  unknown    5   may        92         1     -1         0  unknown  no  \n",
      "4  unknown    5   may       198         1     -1         0  unknown  no  \n",
      "       age           job   marital  education default  balance housing loan  \\\n",
      "45206   51    technician   married   tertiary      no      825      no   no   \n",
      "45207   71       retired  divorced    primary      no     1729      no   no   \n",
      "45208   72       retired   married  secondary      no     5715      no   no   \n",
      "45209   57   blue-collar   married  secondary      no      668      no   no   \n",
      "45210   37  entrepreneur   married  secondary      no     2971      no   no   \n",
      "\n",
      "         contact  day month  duration  campaign  pdays  previous poutcome    y  \n",
      "45206   cellular   17   nov       977         3     -1         0  unknown  yes  \n",
      "45207   cellular   17   nov       456         2     -1         0  unknown  yes  \n",
      "45208   cellular   17   nov      1127         5    184         3  success  yes  \n",
      "45209  telephone   17   nov       508         4     -1         0  unknown   no  \n",
      "45210   cellular   17   nov       361         2    188        11    other   no  \n"
     ]
    }
   ],
   "source": [
    "# Author: Osama Alghmyan 300218382\n",
    "\n",
    "print(data.head())\n",
    "print(data.tail())"
   ]
  },
  {
   "cell_type": "code",
   "execution_count": 121,
   "metadata": {},
   "outputs": [
    {
     "name": "stdout",
     "output_type": "stream",
     "text": [
      "<class 'pandas.core.frame.DataFrame'>\n",
      "RangeIndex: 45211 entries, 0 to 45210\n",
      "Data columns (total 17 columns):\n",
      " #   Column     Non-Null Count  Dtype \n",
      "---  ------     --------------  ----- \n",
      " 0   age        45211 non-null  int64 \n",
      " 1   job        45211 non-null  object\n",
      " 2   marital    45211 non-null  object\n",
      " 3   education  45211 non-null  object\n",
      " 4   default    45211 non-null  object\n",
      " 5   balance    45211 non-null  int64 \n",
      " 6   housing    45211 non-null  object\n",
      " 7   loan       45211 non-null  object\n",
      " 8   contact    45211 non-null  object\n",
      " 9   day        45211 non-null  int64 \n",
      " 10  month      45211 non-null  object\n",
      " 11  duration   45211 non-null  int64 \n",
      " 12  campaign   45211 non-null  int64 \n",
      " 13  pdays      45211 non-null  int64 \n",
      " 14  previous   45211 non-null  int64 \n",
      " 15  poutcome   45211 non-null  object\n",
      " 16  y          45211 non-null  object\n",
      "dtypes: int64(7), object(10)\n",
      "memory usage: 5.9+ MB\n",
      "None\n"
     ]
    }
   ],
   "source": [
    "# Author: Osama Alghmyan 300218382\n",
    "\n",
    "print(data.info())"
   ]
  },
  {
   "cell_type": "code",
   "execution_count": 122,
   "metadata": {},
   "outputs": [
    {
     "name": "stdout",
     "output_type": "stream",
     "text": [
      "age            77\n",
      "job            12\n",
      "marital         3\n",
      "education       4\n",
      "default         2\n",
      "balance      7168\n",
      "housing         2\n",
      "loan            2\n",
      "contact         3\n",
      "day            31\n",
      "month          12\n",
      "duration     1573\n",
      "campaign       48\n",
      "pdays         559\n",
      "previous       41\n",
      "poutcome        4\n",
      "y               2\n",
      "dtype: int64\n"
     ]
    }
   ],
   "source": [
    "# Author: Osama Alghmyan 300218382\n",
    "\n",
    "print(data.nunique())"
   ]
  },
  {
   "cell_type": "code",
   "execution_count": 123,
   "metadata": {},
   "outputs": [
    {
     "name": "stdout",
     "output_type": "stream",
     "text": [
      "Check for missing values:\n",
      " age          0\n",
      "job          0\n",
      "marital      0\n",
      "education    0\n",
      "default      0\n",
      "balance      0\n",
      "housing      0\n",
      "loan         0\n",
      "contact      0\n",
      "day          0\n",
      "month        0\n",
      "duration     0\n",
      "campaign     0\n",
      "pdays        0\n",
      "previous     0\n",
      "poutcome     0\n",
      "y            0\n",
      "dtype: int64\n"
     ]
    }
   ],
   "source": [
    "# Author: Osama Alghmyan 300218382\n",
    "\n",
    "print(\"Check for missing values:\\n\", data.isnull().sum())"
   ]
  },
  {
   "cell_type": "code",
   "execution_count": 209,
   "metadata": {},
   "outputs": [
    {
     "name": "stdout",
     "output_type": "stream",
     "text": [
      "No duplicates found in the dataset.\n"
     ]
    }
   ],
   "source": [
    "# Author: Osama Alghmyan 300218382\n",
    "\n",
    "duplicates = data[data.duplicated()]\n",
    "\n",
    "if not duplicates.empty:\n",
    "    print(\"Duplicates found in the dataset:\")\n",
    "    print(duplicates)\n",
    "else:\n",
    "    print(\"No duplicates found in the dataset.\")"
   ]
  },
  {
   "cell_type": "markdown",
   "metadata": {},
   "source": [
    "# Data Preprocessing"
   ]
  },
  {
   "cell_type": "code",
   "execution_count": 217,
   "metadata": {},
   "outputs": [
    {
     "name": "stdout",
     "output_type": "stream",
     "text": [
      "Precentage of unknowns in poutcome 0.8174780473778506\n",
      "Precentage of others in poutcome 0.040698060206586895\n"
     ]
    }
   ],
   "source": [
    "# Author: Osama Alghmyan 300218382\n",
    "\n",
    "poutcome_unknown_count = (data['poutcome'] == 'unknown').sum()\n",
    "poutcome_other_count = (data['poutcome'] == 'other').sum()\n",
    "\n",
    "poutcome_count = len(data['poutcome'])\n",
    "\n",
    "percentage_unknown = poutcome_unknown_count / poutcome_count\n",
    "percentage_other = poutcome_other_count / poutcome_count\n",
    "\n",
    "print(\"Precentage of unknowns in poutcome\", percentage_unknown)\n",
    "print(\"Precentage of others in poutcome\", percentage_other)\n",
    "\n",
    "data = data.drop(columns=['poutcome'])"
   ]
  },
  {
   "cell_type": "code",
   "execution_count": 218,
   "metadata": {},
   "outputs": [
    {
     "name": "stdout",
     "output_type": "stream",
     "text": [
      "Precentage of unknown per column:\n",
      "\n",
      " age           0.000000\n",
      "job           0.637013\n",
      "marital       0.000000\n",
      "education     4.107407\n",
      "default       0.000000\n",
      "balance       0.000000\n",
      "housing       0.000000\n",
      "loan          0.000000\n",
      "contact      28.798301\n",
      "day           0.000000\n",
      "month         0.000000\n",
      "duration      0.000000\n",
      "campaign      0.000000\n",
      "pdays         0.000000\n",
      "previous      0.000000\n",
      "y             0.000000\n",
      "dtype: float64 \n",
      "\n",
      "Column with the highest precentage of unknown: contact value: 28.798301298356595 \n",
      "\n",
      "Precentage of unknown per row: 0         6.25\n",
      "1         6.25\n",
      "2         6.25\n",
      "3        12.50\n",
      "4        18.75\n",
      "         ...  \n",
      "45206     0.00\n",
      "45207     0.00\n",
      "45208     0.00\n",
      "45209     0.00\n",
      "45210     0.00\n",
      "Length: 45211, dtype: float64 \n",
      "\n",
      "Row with the highest precentage of unknown: 4 value: 18.75 \n",
      "\n"
     ]
    }
   ],
   "source": [
    "# Author: Osama Alghmyan 300218382\n",
    "\n",
    "unknown_perc_cols = (data == \"unknown\").mean() * 100\n",
    "col_with_highest_perc_id = unknown_perc_cols.idxmax()\n",
    "col_with_highest_perc_val = unknown_perc_cols.max()\n",
    "\n",
    "print(\"Precentage of unknown per column:\\n\\n\", unknown_perc_cols, '\\n')\n",
    "print(\"Column with the highest precentage of unknown:\", col_with_highest_perc_id, 'value:', col_with_highest_perc_val,'\\n')\n",
    "\n",
    "unknown_perc_rows = (data == \"unknown\").mean(axis=1) * 100\n",
    "row_with_highest_perc_id = unknown_perc_rows.idxmax()\n",
    "row_with_highest_perc_val = unknown_perc_rows.max()\n",
    "\n",
    "print(\"Precentage of unknown per row:\", unknown_perc_rows, '\\n')\n",
    "print(\"Row with the highest precentage of unknown:\", row_with_highest_perc_id, 'value:', row_with_highest_perc_val,'\\n')\n",
    "\n",
    "data = data.drop(row_with_highest_perc_id)"
   ]
  },
  {
   "cell_type": "code",
   "execution_count": 133,
   "metadata": {},
   "outputs": [
    {
     "data": {
      "text/plain": [
       "<Axes: >"
      ]
     },
     "execution_count": 133,
     "metadata": {},
     "output_type": "execute_result"
    }
   ],
   "source": [
    "# Author: Osama Alghmyan 300218382\n",
    "\n",
    "data.boxplot()"
   ]
  },
  {
   "cell_type": "code",
   "execution_count": 219,
   "metadata": {},
   "outputs": [],
   "source": [
    "# Author: Osama Alghmyan 300218382\n",
    "\n",
    "from sklearn.preprocessing import LabelEncoder\n",
    "\n",
    "le = LabelEncoder()\n",
    "for column in data.select_dtypes(include=['object']).columns:\n",
    "    data[column] = le.fit_transform(data[column])"
   ]
  },
  {
   "cell_type": "code",
   "execution_count": 220,
   "metadata": {},
   "outputs": [],
   "source": [
    "from sklearn.metrics import accuracy_score, roc_curve, auc, f1_score\n",
    "import time\n",
    "import matplotlib.pyplot as plt\n",
    "\n",
    "def evaluation(model, X_test, y_test):\n",
    "    # Predict on test set\n",
    "    y_pred = model.predict(X_test)\n",
    "\n",
    "    # Evaluate the model\n",
    "    print(\"Accuracy: \", accuracy_score(y_test, y_pred))\n",
    "    print(\"F1: \", f1_score(y_test, y_pred))\n",
    "    # print(\"Runtime:\", etime - stime / 60, 'min(s)')\n",
    "\n",
    "\n",
    "    # Keep probabilities for the positive outcome only\n",
    "    probs = model.predict_proba(X_test)\n",
    "    pred_prob = probs[:, 1]\n",
    "\n",
    "    fpr, tpr, thresholds = roc_curve(y_test, pred_prob)\n",
    "    roc_auc = auc(fpr, tpr)\n",
    "\n",
    "    # Plot ROC curve\n",
    "    plt.figure()\n",
    "    plt.plot(fpr, tpr, color='darkorange', lw=2, label=f'ROC curve (area = {roc_auc:.2f})')\n",
    "    plt.plot([0, 1], [0, 1], color='navy', lw=2, linestyle='--')\n",
    "    plt.xlabel('False Positive Rate')\n",
    "    plt.ylabel('True Positive Rate')\n",
    "    plt.title('supervised ROC curve')\n",
    "    plt.show()"
   ]
  },
  {
   "cell_type": "markdown",
   "metadata": {},
   "source": [
    "# Supervised Model"
   ]
  },
  {
   "cell_type": "code",
   "execution_count": 134,
   "metadata": {},
   "outputs": [
    {
     "name": "stdout",
     "output_type": "stream",
     "text": [
      "Accuracy:  0.8823269188232692\n",
      "F1:  0.5588723051409619\n",
      "Runtime: 1684158481.0611312 min(s)\n"
     ]
    },
    {
     "data": {
      "image/png": "[encoded data removed]",
      "text/plain": [
       "<Figure size 640x480 with 1 Axes>"
      ]
     },
     "metadata": {},
     "output_type": "display_data"
    },
    {
     "data": {
      "image/png": "[encoded data removed]",
      "text/plain": [
       "<Figure size 640x480 with 1 Axes>"
      ]
     },
     "metadata": {},
     "output_type": "display_data"
    }
   ],
   "source": [
    "# Author: Osama Alghmyan 300218382\n",
    "\n",
    "from sklearn.model_selection import train_test_split, GridSearchCV\n",
    "from imblearn.over_sampling import SMOTE\n",
    "from sklearn.ensemble import RandomForestClassifier\n",
    "\n",
    "\n",
    "RS = 56\n",
    "\n",
    "X = data.drop('y', axis=1)\n",
    "y = data['y']\n",
    "\n",
    "# Split the data into training and test sets\n",
    "X_train, X_test, y_train, y_test = train_test_split(X, y, test_size=0.3, random_state=RS)\n",
    "\n",
    "# SMOTE for handling class imbalance\n",
    "smote = SMOTE(random_state=RS)\n",
    "X_res, y_res = smote.fit_resample(X_train, y_train)\n",
    "\n",
    "# Random Forest with hyperparameter tuning\n",
    "rf = RandomForestClassifier(random_state=RS)\n",
    "\n",
    "# Define a grid of hyperparameters to search\n",
    "param_grid = {\n",
    "    'n_estimators': [100, 200],\n",
    "    'max_depth': [10, 20, None],\n",
    "    'min_samples_split': [2, 5],\n",
    "    'min_samples_leaf': [1, 2]\n",
    "}\n",
    "\n",
    "# Use GridSearchCV for finding the best hyperparameters and fitting the model\n",
    "grid_search = GridSearchCV(rf, param_grid, cv=2, scoring='accuracy')\n",
    "\n",
    "stime = time.time()\n",
    "grid_search.fit(X_res, y_res)\n",
    "etime = time.time()\n",
    "\n",
    "# Use the best estimator found\n",
    "best_rf = grid_search.best_estimator_\n",
    "\n",
    "evaluation(best_rf, X_test, y_test)\n"
   ]
  },
  {
   "cell_type": "markdown",
   "metadata": {},
   "source": [
    "# Unlabeled dataset creation"
   ]
  },
  {
   "cell_type": "code",
   "execution_count": 226,
   "metadata": {},
   "outputs": [
    {
     "name": "stdout",
     "output_type": "stream",
     "text": [
      "Metrics for self-training SSL at 50.0% unlabeled data:\n",
      "\n",
      "Length of X_test: 13563\n",
      "Length of y_test: 6774\n"
     ]
    },
    {
     "ename": "ValueError",
     "evalue": "Found input variables with inconsistent numbers of samples: [6774, 13563]",
     "output_type": "error",
     "traceback": [
      "\u001b[0;31m---------------------------------------------------------------------------\u001b[0m",
      "\u001b[0;31mValueError\u001b[0m                                Traceback (most recent call last)",
      "Cell \u001b[0;32mIn[226], line 18\u001b[0m\n\u001b[1;32m     16\u001b[0m \u001b[38;5;28mprint\u001b[39m(\u001b[38;5;124mf\u001b[39m\u001b[38;5;124m'\u001b[39m\u001b[38;5;124mLength of X_test: \u001b[39m\u001b[38;5;132;01m{\u001b[39;00m\u001b[38;5;28mlen\u001b[39m(X_test)\u001b[38;5;132;01m}\u001b[39;00m\u001b[38;5;124m'\u001b[39m)\n\u001b[1;32m     17\u001b[0m \u001b[38;5;28mprint\u001b[39m(\u001b[38;5;124mf\u001b[39m\u001b[38;5;124m'\u001b[39m\u001b[38;5;124mLength of y_test: \u001b[39m\u001b[38;5;132;01m{\u001b[39;00m\u001b[38;5;28mlen\u001b[39m(y_test)\u001b[38;5;132;01m}\u001b[39;00m\u001b[38;5;124m'\u001b[39m)\n\u001b[0;32m---> 18\u001b[0m \u001b[43mevaluation\u001b[49m\u001b[43m(\u001b[49m\u001b[43mst\u001b[49m\u001b[43m,\u001b[49m\u001b[43m \u001b[49m\u001b[43mX_test\u001b[49m\u001b[43m,\u001b[49m\u001b[43m \u001b[49m\u001b[43my_test\u001b[49m\u001b[43m)\u001b[49m\n\u001b[1;32m     20\u001b[0m \u001b[38;5;66;03m# clf1, clf2, X_test_1, X_test_2, y_test = cotrainingModel(RandomForestClassifier(), XGBClassifier(), unlabel_dataset.copy())\u001b[39;00m\n\u001b[1;32m     21\u001b[0m \u001b[38;5;66;03m# print(f'Metrics for co-training SSL at {prop * 100}% unlabeled data:\\n')\u001b[39;00m\n\u001b[1;32m     22\u001b[0m \n\u001b[0;32m   (...)\u001b[0m\n\u001b[1;32m     30\u001b[0m \n\u001b[1;32m     31\u001b[0m \u001b[38;5;66;03m# # print(\"Runtime:\", etime - stime / 60, 'min(s)')\u001b[39;00m\n",
      "Cell \u001b[0;32mIn[220], line 10\u001b[0m, in \u001b[0;36mevaluation\u001b[0;34m(model, X_test, y_test)\u001b[0m\n\u001b[1;32m      7\u001b[0m y_pred \u001b[38;5;241m=\u001b[39m model\u001b[38;5;241m.\u001b[39mpredict(X_test)\n\u001b[1;32m      9\u001b[0m \u001b[38;5;66;03m# Evaluate the model\u001b[39;00m\n\u001b[0;32m---> 10\u001b[0m \u001b[38;5;28mprint\u001b[39m(\u001b[38;5;124m\"\u001b[39m\u001b[38;5;124mAccuracy: \u001b[39m\u001b[38;5;124m\"\u001b[39m, \u001b[43maccuracy_score\u001b[49m\u001b[43m(\u001b[49m\u001b[43my_test\u001b[49m\u001b[43m,\u001b[49m\u001b[43m \u001b[49m\u001b[43my_pred\u001b[49m\u001b[43m)\u001b[49m)\n\u001b[1;32m     11\u001b[0m \u001b[38;5;28mprint\u001b[39m(\u001b[38;5;124m\"\u001b[39m\u001b[38;5;124mF1: \u001b[39m\u001b[38;5;124m\"\u001b[39m, f1_score(y_test, y_pred))\n\u001b[1;32m     12\u001b[0m \u001b[38;5;66;03m# print(\"Runtime:\", etime - stime / 60, 'min(s)')\u001b[39;00m\n\u001b[1;32m     13\u001b[0m \n\u001b[1;32m     14\u001b[0m \n\u001b[1;32m     15\u001b[0m \u001b[38;5;66;03m# Keep probabilities for the positive outcome only\u001b[39;00m\n",
      "File \u001b[0;32m~/.local/lib/python3.10/site-packages/sklearn/utils/_param_validation.py:213\u001b[0m, in \u001b[0;36mvalidate_params.<locals>.decorator.<locals>.wrapper\u001b[0;34m(*args, **kwargs)\u001b[0m\n\u001b[1;32m    207\u001b[0m \u001b[38;5;28;01mtry\u001b[39;00m:\n\u001b[1;32m    208\u001b[0m     \u001b[38;5;28;01mwith\u001b[39;00m config_context(\n\u001b[1;32m    209\u001b[0m         skip_parameter_validation\u001b[38;5;241m=\u001b[39m(\n\u001b[1;32m    210\u001b[0m             prefer_skip_nested_validation \u001b[38;5;129;01mor\u001b[39;00m global_skip_validation\n\u001b[1;32m    211\u001b[0m         )\n\u001b[1;32m    212\u001b[0m     ):\n\u001b[0;32m--> 213\u001b[0m         \u001b[38;5;28;01mreturn\u001b[39;00m \u001b[43mfunc\u001b[49m\u001b[43m(\u001b[49m\u001b[38;5;241;43m*\u001b[39;49m\u001b[43margs\u001b[49m\u001b[43m,\u001b[49m\u001b[43m \u001b[49m\u001b[38;5;241;43m*\u001b[39;49m\u001b[38;5;241;43m*\u001b[39;49m\u001b[43mkwargs\u001b[49m\u001b[43m)\u001b[49m\n\u001b[1;32m    214\u001b[0m \u001b[38;5;28;01mexcept\u001b[39;00m InvalidParameterError \u001b[38;5;28;01mas\u001b[39;00m e:\n\u001b[1;32m    215\u001b[0m     \u001b[38;5;66;03m# When the function is just a wrapper around an estimator, we allow\u001b[39;00m\n\u001b[1;32m    216\u001b[0m     \u001b[38;5;66;03m# the function to delegate validation to the estimator, but we replace\u001b[39;00m\n\u001b[1;32m    217\u001b[0m     \u001b[38;5;66;03m# the name of the estimator by the name of the function in the error\u001b[39;00m\n\u001b[1;32m    218\u001b[0m     \u001b[38;5;66;03m# message to avoid confusion.\u001b[39;00m\n\u001b[1;32m    219\u001b[0m     msg \u001b[38;5;241m=\u001b[39m re\u001b[38;5;241m.\u001b[39msub(\n\u001b[1;32m    220\u001b[0m         \u001b[38;5;124mr\u001b[39m\u001b[38;5;124m\"\u001b[39m\u001b[38;5;124mparameter of \u001b[39m\u001b[38;5;124m\\\u001b[39m\u001b[38;5;124mw+ must be\u001b[39m\u001b[38;5;124m\"\u001b[39m,\n\u001b[1;32m    221\u001b[0m         \u001b[38;5;124mf\u001b[39m\u001b[38;5;124m\"\u001b[39m\u001b[38;5;124mparameter of \u001b[39m\u001b[38;5;132;01m{\u001b[39;00mfunc\u001b[38;5;241m.\u001b[39m\u001b[38;5;18m__qualname__\u001b[39m\u001b[38;5;132;01m}\u001b[39;00m\u001b[38;5;124m must be\u001b[39m\u001b[38;5;124m\"\u001b[39m,\n\u001b[1;32m    222\u001b[0m         \u001b[38;5;28mstr\u001b[39m(e),\n\u001b[1;32m    223\u001b[0m     )\n",
      "File \u001b[0;32m~/.local/lib/python3.10/site-packages/sklearn/metrics/_classification.py:213\u001b[0m, in \u001b[0;36maccuracy_score\u001b[0;34m(y_true, y_pred, normalize, sample_weight)\u001b[0m\n\u001b[1;32m    147\u001b[0m \u001b[38;5;250m\u001b[39m\u001b[38;5;124;03m\"\"\"Accuracy classification score.\u001b[39;00m\n\u001b[1;32m    148\u001b[0m \n\u001b[1;32m    149\u001b[0m \u001b[38;5;124;03mIn multilabel classification, this function computes subset accuracy:\u001b[39;00m\n\u001b[0;32m   (...)\u001b[0m\n\u001b[1;32m    209\u001b[0m \u001b[38;5;124;03m0.5\u001b[39;00m\n\u001b[1;32m    210\u001b[0m \u001b[38;5;124;03m\"\"\"\u001b[39;00m\n\u001b[1;32m    212\u001b[0m \u001b[38;5;66;03m# Compute accuracy for each possible representation\u001b[39;00m\n\u001b[0;32m--> 213\u001b[0m y_type, y_true, y_pred \u001b[38;5;241m=\u001b[39m \u001b[43m_check_targets\u001b[49m\u001b[43m(\u001b[49m\u001b[43my_true\u001b[49m\u001b[43m,\u001b[49m\u001b[43m \u001b[49m\u001b[43my_pred\u001b[49m\u001b[43m)\u001b[49m\n\u001b[1;32m    214\u001b[0m check_consistent_length(y_true, y_pred, sample_weight)\n\u001b[1;32m    215\u001b[0m \u001b[38;5;28;01mif\u001b[39;00m y_type\u001b[38;5;241m.\u001b[39mstartswith(\u001b[38;5;124m\"\u001b[39m\u001b[38;5;124mmultilabel\u001b[39m\u001b[38;5;124m\"\u001b[39m):\n",
      "File \u001b[0;32m~/.local/lib/python3.10/site-packages/sklearn/metrics/_classification.py:85\u001b[0m, in \u001b[0;36m_check_targets\u001b[0;34m(y_true, y_pred)\u001b[0m\n\u001b[1;32m     58\u001b[0m \u001b[38;5;28;01mdef\u001b[39;00m \u001b[38;5;21m_check_targets\u001b[39m(y_true, y_pred):\n\u001b[1;32m     59\u001b[0m \u001b[38;5;250m    \u001b[39m\u001b[38;5;124;03m\"\"\"Check that y_true and y_pred belong to the same classification task.\u001b[39;00m\n\u001b[1;32m     60\u001b[0m \n\u001b[1;32m     61\u001b[0m \u001b[38;5;124;03m    This converts multiclass or binary types to a common shape, and raises a\u001b[39;00m\n\u001b[0;32m   (...)\u001b[0m\n\u001b[1;32m     83\u001b[0m \u001b[38;5;124;03m    y_pred : array or indicator matrix\u001b[39;00m\n\u001b[1;32m     84\u001b[0m \u001b[38;5;124;03m    \"\"\"\u001b[39;00m\n\u001b[0;32m---> 85\u001b[0m     \u001b[43mcheck_consistent_length\u001b[49m\u001b[43m(\u001b[49m\u001b[43my_true\u001b[49m\u001b[43m,\u001b[49m\u001b[43m \u001b[49m\u001b[43my_pred\u001b[49m\u001b[43m)\u001b[49m\n\u001b[1;32m     86\u001b[0m     type_true \u001b[38;5;241m=\u001b[39m type_of_target(y_true, input_name\u001b[38;5;241m=\u001b[39m\u001b[38;5;124m\"\u001b[39m\u001b[38;5;124my_true\u001b[39m\u001b[38;5;124m\"\u001b[39m)\n\u001b[1;32m     87\u001b[0m     type_pred \u001b[38;5;241m=\u001b[39m type_of_target(y_pred, input_name\u001b[38;5;241m=\u001b[39m\u001b[38;5;124m\"\u001b[39m\u001b[38;5;124my_pred\u001b[39m\u001b[38;5;124m\"\u001b[39m)\n",
      "File \u001b[0;32m~/.local/lib/python3.10/site-packages/sklearn/utils/validation.py:457\u001b[0m, in \u001b[0;36mcheck_consistent_length\u001b[0;34m(*arrays)\u001b[0m\n\u001b[1;32m    455\u001b[0m uniques \u001b[38;5;241m=\u001b[39m np\u001b[38;5;241m.\u001b[39munique(lengths)\n\u001b[1;32m    456\u001b[0m \u001b[38;5;28;01mif\u001b[39;00m \u001b[38;5;28mlen\u001b[39m(uniques) \u001b[38;5;241m>\u001b[39m \u001b[38;5;241m1\u001b[39m:\n\u001b[0;32m--> 457\u001b[0m     \u001b[38;5;28;01mraise\u001b[39;00m \u001b[38;5;167;01mValueError\u001b[39;00m(\n\u001b[1;32m    458\u001b[0m         \u001b[38;5;124m\"\u001b[39m\u001b[38;5;124mFound input variables with inconsistent numbers of samples: \u001b[39m\u001b[38;5;132;01m%r\u001b[39;00m\u001b[38;5;124m\"\u001b[39m\n\u001b[1;32m    459\u001b[0m         \u001b[38;5;241m%\u001b[39m [\u001b[38;5;28mint\u001b[39m(l) \u001b[38;5;28;01mfor\u001b[39;00m l \u001b[38;5;129;01min\u001b[39;00m lengths]\n\u001b[1;32m    460\u001b[0m     )\n",
      "\u001b[0;31mValueError\u001b[0m: Found input variables with inconsistent numbers of samples: [6774, 13563]"
     ]
    }
   ],
   "source": [
    "# Author: Osama Alghmyan 300218382\n",
    "\n",
    "import numpy as np\n",
    "from sklearn.ensemble import RandomForestClassifier\n",
    "from xgboost import XGBClassifier\n",
    "\n",
    "rng = np.random.RandomState(RS)\n",
    "unlabelled_proportions = [0.5, 0.75, 0.9, 0.95, 0.99]\n",
    "for prop in unlabelled_proportions:\n",
    "    random_unlabeled_points = rng.rand(data['y'].shape[0]) < prop\n",
    "    unlabel_dataset = data.copy()\n",
    "    unlabel_dataset.loc[random_unlabeled_points, 'y'] = -1\n",
    "    \n",
    "    st = selfTrainingModel(RandomForestClassifier(), unlabel_dataset.copy())\n",
    "    \n",
    "    evaluation(st, X_test, y_test)\n",
    "\n",
    "    # clf1, clf2, X_test_1, X_test_2, y_test = cotrainingModel(RandomForestClassifier(), XGBClassifier(), unlabel_dataset.copy())\n",
    "    # print(f'Metrics for co-training SSL at {prop * 100}% unlabeled data:\\n')\n",
    "\n",
    "    # print(f'classifier1:\\n')\n",
    "    # evaluation(clf1, X_test_1, y_test)\n",
    "    \n",
    "    # print(f'classifier2:\\n')\n",
    "    # evaluation(clf2, X_test_2, y_test)\n",
    "\n",
    "\n",
    "\n",
    "    # # print(\"Runtime:\", etime - stime / 60, 'min(s)')"
   ]
  },
  {
   "cell_type": "markdown",
   "metadata": {},
   "source": [
    "# Self-training SSL"
   ]
  },
  {
   "cell_type": "code",
   "execution_count": 187,
   "metadata": {},
   "outputs": [],
   "source": [
    "# Author: Osama Alghmyan 300218382\n",
    "\n",
    "from sklearn.semi_supervised import SelfTrainingClassifier\n",
    "def selfTrainingModel(baseModel, unlabel_dataset):\n",
    "    self_training_model = SelfTrainingClassifier(baseModel)\n",
    "    self_training_model.fit(unlabel_dataset.drop('y', axis=1), unlabel_dataset['y'])\n",
    "    \n",
    "    return self_training_model"
   ]
  },
  {
   "cell_type": "markdown",
   "metadata": {},
   "source": [
    "# Co-training SSL"
   ]
  },
  {
   "cell_type": "code",
   "execution_count": 205,
   "metadata": {},
   "outputs": [],
   "source": [
    "# Author: Osama Alghmyan 300218382\n",
    "\n",
    "def cotrainingModel(clf1, clf2, unlabel_dataset, n_iterations = 10, n_labels = 10):\n",
    "    # Split the data into labeled and unlabeled sets\n",
    "    labeled_data = unlabel_dataset[unlabel_dataset['y'] != -1]\n",
    "    unlabeled_data = unlabel_dataset[unlabel_dataset['y'] == -1]\n",
    "\n",
    "    # Split labeled data into training and test sets\n",
    "    X_labeled = labeled_data.drop('y', axis=1)\n",
    "    y_labeled = labeled_data['y']\n",
    "\n",
    "    X_train, X_test, y_train, y_test = train_test_split(X_labeled, y_labeled, test_size=0.3)\n",
    "\n",
    "    # Split features for co-training\n",
    "    set_of_features_1 = ['age', 'job', 'marital', 'education', 'default', 'balance', 'housing',\n",
    "        'loan']\n",
    "    set_of_features_2 = ['contact', 'day', 'month', 'duration', 'campaign', 'pdays',\n",
    "        'previous']\n",
    "\n",
    "    X_train_1 = X_train[set_of_features_1]\n",
    "    X_train_2 = X_train[set_of_features_2]\n",
    "\n",
    "    y_train_1 = y_train\n",
    "    y_train_2 = y_train\n",
    "\n",
    "    X_test_1 = X_test[set_of_features_1]\n",
    "    X_test_2 = X_test[set_of_features_2]\n",
    "\n",
    "    # Train both classifiers on the labeled data\n",
    "    clf1.fit(X_train_1, y_train)\n",
    "    clf2.fit(X_train_2, y_train)\n",
    "\n",
    "    for _ in range(n_iterations):\n",
    "        # Use clf1 to label data and add to clf2's training set\n",
    "        if len(unlabeled_data) > 0:\n",
    "            unlabeled_X1 = unlabeled_data[set_of_features_1]\n",
    "            pred_y1 = clf1.predict(unlabeled_X1)\n",
    "            \n",
    "            # Select n_labels instances clf1 is most confident about\n",
    "            pred_proba1 = clf1.predict_proba(unlabeled_X1).max(axis=1)\n",
    "            confident_indices1 = np.argsort(pred_proba1)[-n_labels:]\n",
    "            add_to_train2_X = unlabeled_data.iloc[confident_indices1][set_of_features_2]\n",
    "            add_to_train2_y = pred_y1[confident_indices1]\n",
    "\n",
    "            # Update the training set for clf2\n",
    "            X_train_2 = pd.concat([X_train_2, add_to_train2_X])\n",
    "            y_train_2 = pd.concat([y_train_2, pd.Series(add_to_train2_y)]) \n",
    "            \n",
    "            # Remove labeled instances from the unlabeled data\n",
    "            unlabeled_data = unlabeled_data.drop(unlabeled_data.index[confident_indices1])\n",
    "\n",
    "            # Retrain clf2\n",
    "            clf2.fit(X_train_2, y_train_2)\n",
    "\n",
    "        # Use clf2 to label data and add to clf1's training set\n",
    "        if len(unlabeled_data) > 0:\n",
    "            unlabeled_X2 = unlabeled_data[set_of_features_2]\n",
    "            pred_y2 = clf2.predict(unlabeled_X2)\n",
    "            \n",
    "            # Select n_labels instances clf2 is most confident about\n",
    "            pred_proba2 = clf2.predict_proba(unlabeled_X2).max(axis=1)\n",
    "            confident_indices2 = np.argsort(pred_proba2)[-n_labels:]\n",
    "            add_to_train1_X = unlabeled_data.iloc[confident_indices2][set_of_features_1]\n",
    "            add_to_train1_y = pred_y2[confident_indices2]\n",
    "\n",
    "            # Update the training set for clf1\n",
    "            X_train_1 = pd.concat([X_train_1, add_to_train1_X])\n",
    "            y_train_1 = pd.concat([y_train_1, pd.Series(add_to_train1_y)])\n",
    "            \n",
    "            # Remove labeled instances from the unlabeled data\n",
    "            unlabeled_data = unlabeled_data.drop(unlabeled_data.index[confident_indices2])\n",
    "\n",
    "            # Retrain clf1\n",
    "            clf1.fit(X_train_1, y_train_1)\n",
    "\n",
    "    return (clf1, clf2, X_test_1, X_test_2, y_test)"
   ]
  }
 ],
 "metadata": {
  "kernelspec": {
   "display_name": "Python 3",
   "language": "python",
   "name": "python3"
  },
  "language_info": {
   "codemirror_mode": {
    "name": "ipython",
    "version": 3
   },
   "file_extension": ".py",
   "mimetype": "text/x-python",
   "name": "python",
   "nbconvert_exporter": "python",
   "pygments_lexer": "ipython3",
   "version": "3.10.13"
  }
 },
 "nbformat": 4,
 "nbformat_minor": 2
}
